{
 "cells": [
  {
   "cell_type": "markdown",
   "id": "bbdf06f8",
   "metadata": {},
   "source": [
    "# MA3K7 Assignment 1 \n",
    "\n",
    "**Student Number: 2110308**"
   ]
  },
  {
   "cell_type": "markdown",
   "id": "ee0348c1",
   "metadata": {},
   "source": [
    "The code below was used to verify my conjecture that the terms of the number bracelets could be predicted using two sequences with rules similar to that of the Fibonacci sequence."
   ]
  },
  {
   "cell_type": "code",
   "execution_count": 3,
   "id": "0a165de3",
   "metadata": {},
   "outputs": [
    {
     "name": "stdout",
     "output_type": "stream",
     "text": [
      "Next N terms in Sequence S: [73, 118, 191, 309, 500]\n",
      "Next N terms in Sequence T: [80, 160, 320, 640, 1280]\n",
      "Next N terms in the number bracelet chain: [7, 42, 129, 331, 780]\n"
     ]
    }
   ],
   "source": [
    "#Define the number bracelet chain\n",
    "NB = [1, 5, 6, 1, 7, 8, 5]\n",
    "\n",
    "# Define the second row of the diagram\n",
    "S = [1, 5, 6, 11, 17, 28, 45]\n",
    "\n",
    "#Define the third row of the diagram\n",
    "T = [0, 0, 0, 10, 10, 20, 40]\n",
    "\n",
    "\n",
    "\n",
    "# Function to calculate the next term in S (Fibonacci-like sequence)\n",
    "def next_term_S(sequence):\n",
    "    return sequence[-2] + sequence[-1]\n",
    "\n",
    "# Function to calculate the next term in Sequence T\n",
    "def next_term_T(sequence):\n",
    "    return sum(sequence)\n",
    "\n",
    "# Specify the number of terms (N) to calculate\n",
    "N = 5\n",
    "\n",
    "# Initialize lists to store the results\n",
    "next_s_terms = []\n",
    "next_t_terms = []\n",
    "differences = []\n",
    "\n",
    "# Iterate through the next N terms\n",
    "for _ in range(N):\n",
    "    next_s = next_term_S(S)\n",
    "    next_t = next_term_T(T)\n",
    "    \n",
    "    # Append the results to the lists\n",
    "    next_s_terms.append(next_s)\n",
    "    next_t_terms.append(next_t)\n",
    "    differences.append(abs(next_s - next_t))\n",
    "    \n",
    "    # Update the sequences for the next iteration\n",
    "    S.append(next_s)\n",
    "    T.append(next_t)\n",
    "\n",
    "# Print the results for the next N terms\n",
    "print(\"Next N terms in Sequence S:\", next_s_terms)\n",
    "print(\"Next N terms in Sequence T:\", next_t_terms)\n",
    "print(\"Next N terms in the number bracelet chain:\", differences)\n"
   ]
  },
  {
   "cell_type": "markdown",
   "id": "0cca09ad",
   "metadata": {},
   "source": [
    "The code below generates the first 10 terms of sequence S after a modulo 10 operation has been performed on every term."
   ]
  },
  {
   "cell_type": "code",
   "execution_count": 12,
   "id": "371ef875",
   "metadata": {},
   "outputs": [
    {
     "name": "stdout",
     "output_type": "stream",
     "text": [
      "Final Result (Terms after modulo 10 operation): [1, 5, 6, 1, 7, 8, 5, 3, 8, 1]\n"
     ]
    }
   ],
   "source": [
    "# Define sequence S again\n",
    "S = [1, 5, 6, 11, 17, 28, 45]\n",
    "\n",
    "# Specify the number of terms to calculate\n",
    "N = 10\n",
    "\n",
    "# Calculate the first 10 terms of Sequence S using its rule\n",
    "for _ in range(N - len(S)):\n",
    "    S.append(next_term_S(S))\n",
    "\n",
    "# Perform a modulo 10 operation on each term and store the results in a list\n",
    "results = [term % 10 for term in S]\n",
    "\n",
    "# Print the final result as one array\n",
    "print(\"Final Result (Terms after modulo 10 operation):\", results)"
   ]
  },
  {
   "cell_type": "markdown",
   "id": "6fc13473",
   "metadata": {},
   "source": [
    "In the code below, I essentially repeat the previous code but for 50 terms."
   ]
  },
  {
   "cell_type": "code",
   "execution_count": 13,
   "id": "aea789a2",
   "metadata": {},
   "outputs": [
    {
     "name": "stdout",
     "output_type": "stream",
     "text": [
      "Final Result (Terms after modulo 10 operation): [1, 5, 6, 1, 7, 8, 5, 3, 8, 1, 9, 0, 9, 9, 8, 7, 5, 2, 7, 9, 6, 5, 1, 6, 7, 3, 0, 3, 3, 6, 9, 5, 4, 9, 3, 2, 5, 7, 2, 9, 1, 0, 1, 1, 2, 3, 5, 8, 3, 1]\n"
     ]
    }
   ],
   "source": [
    "N = 50\n",
    "# Calculate the first 10 terms of Sequence S using its rule\n",
    "for _ in range(N - len(S)):\n",
    "    S.append(next_term_S(S))\n",
    "\n",
    "# Perform a modulo 10 operation on each term and store the results in a list\n",
    "results = [term % 10 for term in S]\n",
    "\n",
    "# Print the final result as one array\n",
    "print(\"Final Result (Terms after modulo 10 operation):\", results)"
   ]
  },
  {
   "cell_type": "markdown",
   "id": "52b354c2",
   "metadata": {},
   "source": [
    "In the code below, I increase the number of terms printed to 100 in an attempt to find further insights and patterns."
   ]
  },
  {
   "cell_type": "code",
   "execution_count": 14,
   "id": "951dcd64",
   "metadata": {},
   "outputs": [
    {
     "name": "stdout",
     "output_type": "stream",
     "text": [
      "Final Result (Terms after modulo 10 operation): [1, 5, 6, 1, 7, 8, 5, 3, 8, 1, 9, 0, 9, 9, 8, 7, 5, 2, 7, 9, 6, 5, 1, 6, 7, 3, 0, 3, 3, 6, 9, 5, 4, 9, 3, 2, 5, 7, 2, 9, 1, 0, 1, 1, 2, 3, 5, 8, 3, 1, 4, 5, 9, 4, 3, 7, 0, 7, 7, 4, 1, 5, 6, 1, 7, 8, 5, 3, 8, 1, 9, 0, 9, 9, 8, 7, 5, 2, 7, 9, 6, 5, 1, 6, 7, 3, 0, 3, 3, 6, 9, 5, 4, 9, 3, 2, 5, 7, 2, 9]\n"
     ]
    }
   ],
   "source": [
    "N = 100\n",
    "# Calculate the first 10 terms of Sequence S using its rule\n",
    "for _ in range(N - len(S)):\n",
    "    S.append(next_term_S(S))\n",
    "\n",
    "# Perform a modulo 10 operation on each term and store the results in a list\n",
    "results = [term % 10 for term in S]\n",
    "\n",
    "# Print the final result as one array\n",
    "print(\"Final Result (Terms after modulo 10 operation):\", results)"
   ]
  },
  {
   "cell_type": "markdown",
   "id": "6231da7b",
   "metadata": {},
   "source": [
    "In the code below, I increase the number of terms printed to 180 in an attempt to verify a conjecture."
   ]
  },
  {
   "cell_type": "code",
   "execution_count": 15,
   "id": "0b1ee591",
   "metadata": {},
   "outputs": [
    {
     "name": "stdout",
     "output_type": "stream",
     "text": [
      "Final Result (Terms after modulo 10 operation): [1, 5, 6, 1, 7, 8, 5, 3, 8, 1, 9, 0, 9, 9, 8, 7, 5, 2, 7, 9, 6, 5, 1, 6, 7, 3, 0, 3, 3, 6, 9, 5, 4, 9, 3, 2, 5, 7, 2, 9, 1, 0, 1, 1, 2, 3, 5, 8, 3, 1, 4, 5, 9, 4, 3, 7, 0, 7, 7, 4, 1, 5, 6, 1, 7, 8, 5, 3, 8, 1, 9, 0, 9, 9, 8, 7, 5, 2, 7, 9, 6, 5, 1, 6, 7, 3, 0, 3, 3, 6, 9, 5, 4, 9, 3, 2, 5, 7, 2, 9, 1, 0, 1, 1, 2, 3, 5, 8, 3, 1, 4, 5, 9, 4, 3, 7, 0, 7, 7, 4, 1, 5, 6, 1, 7, 8, 5, 3, 8, 1, 9, 0, 9, 9, 8, 7, 5, 2, 7, 9, 6, 5, 1, 6, 7, 3, 0, 3, 3, 6, 9, 5, 4, 9, 3, 2, 5, 7, 2, 9, 1, 0, 1, 1, 2, 3, 5, 8, 3, 1, 4, 5, 9, 4, 3, 7, 0, 7, 7, 4]\n"
     ]
    }
   ],
   "source": [
    "N = 180\n",
    "# Calculate the first 10 terms of Sequence S using its rule\n",
    "for _ in range(N - len(S)):\n",
    "    S.append(next_term_S(S))\n",
    "\n",
    "# Perform a modulo 10 operation on each term and store the results in a list\n",
    "results = [term % 10 for term in S]\n",
    "\n",
    "# Print the final result as one array\n",
    "print(\"Final Result (Terms after modulo 10 operation):\", results)"
   ]
  },
  {
   "cell_type": "markdown",
   "id": "0ea8c467",
   "metadata": {},
   "source": [
    "In the code below, I will keep the first two terms of sequence S as it is but the rule will be fibonacci sequence modulo 11. I will print out 100 terms of this sequence."
   ]
  },
  {
   "cell_type": "code",
   "execution_count": 20,
   "id": "31e68f82",
   "metadata": {},
   "outputs": [
    {
     "name": "stdout",
     "output_type": "stream",
     "text": [
      "Final Result (Terms after modulo 10 operation): [-1, -5, -6, 9, 3, 2, 5, 7, 2, 9, 1, 0, 1, 1, 2, 3, 5, 8, 3, 1, 4, 5, 9, 4, 3, 7, 0, 7, 7, 4, 1, 5, 6, 1, 7, 8, 5, 3, 8, 1, 9, 0, 9, 9, 8, 7, 5, 2, 7, 9, 6, 5, 1, 6, 7, 3, 0, 3, 3, 6, 9, 5, 4, 9, 3, 2, 5, 7, 2, 9, 1, 0, 1, 1, 2, 3, 5, 8, 3, 1, 4, 5, 9, 4, 3, 7, 0, 7, 7, 4, 1, 5, 6, 1, 7, 8, 5, 3, 8, 1]\n"
     ]
    }
   ],
   "source": [
    "# Define sequence S again\n",
    "S1 = [-1, -5, -6, 9, 3, 2, 5]\n",
    "\n",
    "# Specify the number of terms to calculate\n",
    "N = 100\n",
    "\n",
    "# Calculate the first 100 terms of Sequence S using its rule\n",
    "for _ in range(N - len(S1)):\n",
    "    S1.append(next_term_S(S1))\n",
    "\n",
    "# Perform a modulo 10 operation on each term from the 8th term onwards and store the results in a list\n",
    "results = [term if i < 7 else term % 10 for i, term in enumerate(S1)]\n",
    "\n",
    "# Print the final result as one array\n",
    "print(\"Final Result (Terms after modulo 10 operation):\", results)"
   ]
  },
  {
   "cell_type": "code",
   "execution_count": null,
   "id": "716b5fa0",
   "metadata": {},
   "outputs": [],
   "source": []
  }
 ],
 "metadata": {
  "kernelspec": {
   "display_name": "Python 3 (ipykernel)",
   "language": "python",
   "name": "python3"
  },
  "language_info": {
   "codemirror_mode": {
    "name": "ipython",
    "version": 3
   },
   "file_extension": ".py",
   "mimetype": "text/x-python",
   "name": "python",
   "nbconvert_exporter": "python",
   "pygments_lexer": "ipython3",
   "version": "3.9.7"
  }
 },
 "nbformat": 4,
 "nbformat_minor": 5
}
